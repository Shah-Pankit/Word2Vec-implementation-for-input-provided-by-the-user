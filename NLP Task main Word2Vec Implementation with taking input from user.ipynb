{
 "cells": [
  {
   "cell_type": "code",
   "execution_count": 169,
   "id": "8eeed665-4774-4174-abae-ec40d786830d",
   "metadata": {},
   "outputs": [],
   "source": [
    "import re\n",
    "import pandas as pd\n",
    "import nltk\n",
    "from nltk.stem import PorterStemmer\n",
    "from gensim.models import Word2Vec\n",
    "from nltk.corpus import stopwords"
   ]
  },
  {
   "cell_type": "code",
   "execution_count": 170,
   "id": "ca72c987-717b-456a-82ce-c19d84b3c568",
   "metadata": {
    "scrolled": true
   },
   "outputs": [
    {
     "name": "stdin",
     "output_type": "stream",
     "text": [
      "Enter the Text :  Hi there , it's an emergency here, please come fast to ambawadi,ahmedabad, gujarat,india, it's super important.also bring the ambulance for help along with the police, fireman etc. india is famous for fast services of doctors , police and everything\n"
     ]
    }
   ],
   "source": [
    "data = input(\"Enter the Text : \")"
   ]
  },
  {
   "cell_type": "code",
   "execution_count": 171,
   "id": "3cc817c2-75b6-458a-975e-8ba5f2244d2f",
   "metadata": {
    "scrolled": true
   },
   "outputs": [
    {
     "data": {
      "text/plain": [
       "\"Hi there , it's an emergency here, please come fast to ambawadi,ahmedabad, gujarat,india, it's super important.also bring the ambulance for help along with the police, fireman etc. india is famous for fast services of doctors , police and everything\""
      ]
     },
     "execution_count": 171,
     "metadata": {},
     "output_type": "execute_result"
    }
   ],
   "source": [
    "data"
   ]
  },
  {
   "cell_type": "code",
   "execution_count": 172,
   "id": "344ca0e4-ed74-4642-ba8f-f7fb9ae447dd",
   "metadata": {
    "scrolled": true
   },
   "outputs": [
    {
     "data": {
      "text/plain": [
       "str"
      ]
     },
     "execution_count": 172,
     "metadata": {},
     "output_type": "execute_result"
    }
   ],
   "source": [
    "type(data)"
   ]
  },
  {
   "cell_type": "code",
   "execution_count": 173,
   "id": "e09cfd56-ead8-4e46-8604-9e5ce04ae0b8",
   "metadata": {},
   "outputs": [],
   "source": [
    "text = re.sub('[^a-zA-Z]',' ',data)\n",
    "text = text.lower()"
   ]
  },
  {
   "cell_type": "code",
   "execution_count": 174,
   "id": "bba46e2b-c7d6-49a9-ba2b-dfeb7fe388f2",
   "metadata": {
    "scrolled": true
   },
   "outputs": [
    {
     "data": {
      "text/plain": [
       "'hi there   it s an emergency here  please come fast to ambawadi ahmedabad  gujarat india  it s super important also bring the ambulance for help along with the police  fireman etc  india is famous for fast services of doctors   police and everything'"
      ]
     },
     "execution_count": 174,
     "metadata": {},
     "output_type": "execute_result"
    }
   ],
   "source": [
    "text"
   ]
  },
  {
   "cell_type": "code",
   "execution_count": 175,
   "id": "3a576802-f3e3-484a-8035-dfb80ad47263",
   "metadata": {},
   "outputs": [],
   "source": [
    "sentences = nltk.sent_tokenize(text)"
   ]
  },
  {
   "cell_type": "code",
   "execution_count": 176,
   "id": "53893501-d7db-4808-85f5-ae7d4560c41b",
   "metadata": {
    "scrolled": true
   },
   "outputs": [
    {
     "data": {
      "text/plain": [
       "['hi there   it s an emergency here  please come fast to ambawadi ahmedabad  gujarat india  it s super important also bring the ambulance for help along with the police  fireman etc  india is famous for fast services of doctors   police and everything']"
      ]
     },
     "execution_count": 176,
     "metadata": {},
     "output_type": "execute_result"
    }
   ],
   "source": [
    "sentences"
   ]
  },
  {
   "cell_type": "code",
   "execution_count": 177,
   "id": "de2b4d51-56d7-4764-8aca-b44d7a8967bb",
   "metadata": {},
   "outputs": [],
   "source": [
    "tokens = [nltk.word_tokenize(sentence) for sentence in sentences]"
   ]
  },
  {
   "cell_type": "code",
   "execution_count": 178,
   "id": "173a531d-0ced-4237-bc51-267979d54e17",
   "metadata": {
    "scrolled": true
   },
   "outputs": [
    {
     "data": {
      "text/plain": [
       "[['hi',\n",
       "  'there',\n",
       "  'it',\n",
       "  's',\n",
       "  'an',\n",
       "  'emergency',\n",
       "  'here',\n",
       "  'please',\n",
       "  'come',\n",
       "  'fast',\n",
       "  'to',\n",
       "  'ambawadi',\n",
       "  'ahmedabad',\n",
       "  'gujarat',\n",
       "  'india',\n",
       "  'it',\n",
       "  's',\n",
       "  'super',\n",
       "  'important',\n",
       "  'also',\n",
       "  'bring',\n",
       "  'the',\n",
       "  'ambulance',\n",
       "  'for',\n",
       "  'help',\n",
       "  'along',\n",
       "  'with',\n",
       "  'the',\n",
       "  'police',\n",
       "  'fireman',\n",
       "  'etc',\n",
       "  'india',\n",
       "  'is',\n",
       "  'famous',\n",
       "  'for',\n",
       "  'fast',\n",
       "  'services',\n",
       "  'of',\n",
       "  'doctors',\n",
       "  'police',\n",
       "  'and',\n",
       "  'everything']]"
      ]
     },
     "execution_count": 178,
     "metadata": {},
     "output_type": "execute_result"
    }
   ],
   "source": [
    "tokens"
   ]
  },
  {
   "cell_type": "code",
   "execution_count": 179,
   "id": "52916fe7-fb37-41e9-b2e0-8fd1c95985eb",
   "metadata": {},
   "outputs": [],
   "source": [
    "##Initialize the stemmer\n",
    "ps = PorterStemmer()"
   ]
  },
  {
   "cell_type": "code",
   "execution_count": 180,
   "id": "c6607b6e-6b3b-40ea-b833-4194da37a974",
   "metadata": {},
   "outputs": [],
   "source": [
    "for i in range(len(tokens)):\n",
    "    tokens[i] = [word for word in tokens[i] if word not in stopwords.words('english')]"
   ]
  },
  {
   "cell_type": "code",
   "execution_count": 181,
   "id": "20fd2a3f-c918-4b38-b9f7-8399f3fad747",
   "metadata": {
    "scrolled": true
   },
   "outputs": [
    {
     "data": {
      "text/plain": [
       "[['hi',\n",
       "  'emergency',\n",
       "  'please',\n",
       "  'come',\n",
       "  'fast',\n",
       "  'ambawadi',\n",
       "  'ahmedabad',\n",
       "  'gujarat',\n",
       "  'india',\n",
       "  'super',\n",
       "  'important',\n",
       "  'also',\n",
       "  'bring',\n",
       "  'ambulance',\n",
       "  'help',\n",
       "  'along',\n",
       "  'police',\n",
       "  'fireman',\n",
       "  'etc',\n",
       "  'india',\n",
       "  'famous',\n",
       "  'fast',\n",
       "  'services',\n",
       "  'doctors',\n",
       "  'police',\n",
       "  'everything']]"
      ]
     },
     "execution_count": 181,
     "metadata": {},
     "output_type": "execute_result"
    }
   ],
   "source": [
    "tokens"
   ]
  },
  {
   "cell_type": "code",
   "execution_count": 182,
   "id": "f8d940d1-3707-498f-8dd6-cc87d5e3fad7",
   "metadata": {},
   "outputs": [],
   "source": [
    "model = Word2Vec(tokens,min_count=1)"
   ]
  },
  {
   "cell_type": "code",
   "execution_count": 183,
   "id": "0fe10080-3b8f-4181-a761-aca5372773ff",
   "metadata": {},
   "outputs": [
    {
     "name": "stdout",
     "output_type": "stream",
     "text": [
      " Vector for token  1  :  [-2.3811334e-04  4.2211013e-03  2.1129278e-03  9.9959997e-03\n",
      "  6.2816328e-04 -5.4655168e-03 -1.1790930e-03  2.0723990e-03\n",
      " -3.3754890e-03 -7.8483410e-03 -5.5997386e-03 -6.7506251e-03\n",
      "  6.3500749e-03  3.9231363e-03  8.2151899e-03  6.5188613e-03\n",
      " -6.1273668e-03  2.7173611e-03  8.4721940e-03  1.5916717e-03\n",
      "  3.0685854e-03  5.8122324e-03 -8.8363495e-03  9.1269528e-03\n",
      "  6.8178857e-03  8.5112862e-03 -8.2278345e-03  6.1741951e-03\n",
      "  6.6288672e-03 -1.3569586e-03 -6.2917862e-03  5.3252126e-03\n",
      " -6.8583009e-03 -5.3257239e-03  3.5117948e-03  8.0822064e-03\n",
      "  8.6930851e-03 -4.4040415e-03 -9.1902018e-03  9.6059553e-03\n",
      "  6.2924605e-03 -3.9697895e-03 -8.4614707e-03 -4.7151204e-03\n",
      " -3.9565125e-03 -3.2742722e-03  8.1673893e-04 -2.9875027e-04\n",
      " -3.1106046e-03 -5.9966356e-03  9.4205840e-03 -4.7287154e-03\n",
      " -7.2613587e-03  7.6862383e-03  2.5149768e-03  8.6267488e-03\n",
      " -4.4634510e-03 -6.8956758e-03  9.8340085e-04 -1.1739238e-03\n",
      " -9.3954820e-03 -1.6034484e-03  3.0538051e-03  6.5655373e-03\n",
      "  6.8450402e-03  3.2111665e-03 -4.4422778e-03 -1.8366012e-03\n",
      " -3.9418512e-03  5.7736412e-03 -6.3596461e-03  2.1056845e-03\n",
      " -1.3450854e-03 -5.8110794e-03 -7.2428896e-03  5.8557685e-03\n",
      " -8.3584897e-03 -6.8380270e-04  2.8277982e-03  7.7371313e-03\n",
      " -7.2990814e-03  3.3023427e-03  9.8092631e-03 -6.9778506e-03\n",
      " -3.5359126e-03  5.1325317e-03  5.2402057e-03  1.6241694e-03\n",
      "  7.9697110e-03  8.3125778e-04  1.8743451e-03 -1.6034148e-03\n",
      " -8.1674587e-03  3.2584281e-03  1.9673568e-03 -8.7352535e-03\n",
      " -6.7319372e-04  7.5559779e-05 -7.1596114e-06  8.7127872e-03]\n"
     ]
    }
   ],
   "source": [
    "for i in range(len(tokens)):\n",
    "    vector = model.wv[tokens[i]]\n",
    "    print(\" Vector for token \",1,\" : \",vector[i])"
   ]
  },
  {
   "cell_type": "code",
   "execution_count": 184,
   "id": "718fe2f9-7c36-4323-b7d6-794b2621fa7a",
   "metadata": {
    "scrolled": true
   },
   "outputs": [
    {
     "data": {
      "text/plain": [
       "array([[-2.3811334e-04,  4.2211013e-03,  2.1129278e-03, ...,\n",
       "         7.5559779e-05, -7.1596114e-06,  8.7127872e-03],\n",
       "       [-8.7226471e-03,  2.1293096e-03, -8.7010674e-04, ...,\n",
       "        -8.6938739e-03,  2.9655236e-03, -6.6748150e-03],\n",
       "       [ 8.1364326e-03, -4.4598253e-03, -1.0691429e-03, ...,\n",
       "        -5.7398393e-03, -1.6574693e-03,  5.5745216e-03],\n",
       "       ...,\n",
       "       [-9.4934553e-03,  9.5604649e-03, -7.7648414e-03, ...,\n",
       "        -3.1414444e-03, -6.3358694e-03,  9.8640034e-03],\n",
       "       [-8.6189117e-03,  3.6665553e-03,  5.1904111e-03, ...,\n",
       "        -2.3923218e-03, -9.5108990e-03,  4.5087533e-03],\n",
       "       [-8.2426779e-03,  9.2993546e-03, -1.9766092e-04, ...,\n",
       "        -7.4475873e-03, -2.5060738e-03, -5.5498634e-03]], dtype=float32)"
      ]
     },
     "execution_count": 184,
     "metadata": {},
     "output_type": "execute_result"
    }
   ],
   "source": [
    "vector"
   ]
  },
  {
   "cell_type": "code",
   "execution_count": 185,
   "id": "320f7167-0e6e-408b-890f-d29e3403cf0b",
   "metadata": {
    "scrolled": true
   },
   "outputs": [
    {
     "data": {
      "text/plain": [
       "array([-2.3811334e-04,  4.2211013e-03,  2.1129278e-03,  9.9959997e-03,\n",
       "        6.2816328e-04, -5.4655168e-03, -1.1790930e-03,  2.0723990e-03,\n",
       "       -3.3754890e-03, -7.8483410e-03, -5.5997386e-03, -6.7506251e-03,\n",
       "        6.3500749e-03,  3.9231363e-03,  8.2151899e-03,  6.5188613e-03,\n",
       "       -6.1273668e-03,  2.7173611e-03,  8.4721940e-03,  1.5916717e-03,\n",
       "        3.0685854e-03,  5.8122324e-03, -8.8363495e-03,  9.1269528e-03,\n",
       "        6.8178857e-03,  8.5112862e-03, -8.2278345e-03,  6.1741951e-03,\n",
       "        6.6288672e-03, -1.3569586e-03, -6.2917862e-03,  5.3252126e-03,\n",
       "       -6.8583009e-03, -5.3257239e-03,  3.5117948e-03,  8.0822064e-03,\n",
       "        8.6930851e-03, -4.4040415e-03, -9.1902018e-03,  9.6059553e-03,\n",
       "        6.2924605e-03, -3.9697895e-03, -8.4614707e-03, -4.7151204e-03,\n",
       "       -3.9565125e-03, -3.2742722e-03,  8.1673893e-04, -2.9875027e-04,\n",
       "       -3.1106046e-03, -5.9966356e-03,  9.4205840e-03, -4.7287154e-03,\n",
       "       -7.2613587e-03,  7.6862383e-03,  2.5149768e-03,  8.6267488e-03,\n",
       "       -4.4634510e-03, -6.8956758e-03,  9.8340085e-04, -1.1739238e-03,\n",
       "       -9.3954820e-03, -1.6034484e-03,  3.0538051e-03,  6.5655373e-03,\n",
       "        6.8450402e-03,  3.2111665e-03, -4.4422778e-03, -1.8366012e-03,\n",
       "       -3.9418512e-03,  5.7736412e-03, -6.3596461e-03,  2.1056845e-03,\n",
       "       -1.3450854e-03, -5.8110794e-03, -7.2428896e-03,  5.8557685e-03,\n",
       "       -8.3584897e-03, -6.8380270e-04,  2.8277982e-03,  7.7371313e-03,\n",
       "       -7.2990814e-03,  3.3023427e-03,  9.8092631e-03, -6.9778506e-03,\n",
       "       -3.5359126e-03,  5.1325317e-03,  5.2402057e-03,  1.6241694e-03,\n",
       "        7.9697110e-03,  8.3125778e-04,  1.8743451e-03, -1.6034148e-03,\n",
       "       -8.1674587e-03,  3.2584281e-03,  1.9673568e-03, -8.7352535e-03,\n",
       "       -6.7319372e-04,  7.5559779e-05, -7.1596114e-06,  8.7127872e-03],\n",
       "      dtype=float32)"
      ]
     },
     "execution_count": 185,
     "metadata": {},
     "output_type": "execute_result"
    }
   ],
   "source": [
    "vector[0]"
   ]
  },
  {
   "cell_type": "code",
   "execution_count": 186,
   "id": "985e4279-e70f-4a78-a0c0-bde8a333e7ff",
   "metadata": {
    "scrolled": true
   },
   "outputs": [
    {
     "data": {
      "text/plain": [
       "array([-8.7226471e-03,  2.1293096e-03, -8.7010674e-04, -9.3244556e-03,\n",
       "       -9.4333766e-03, -1.4178640e-03,  4.4297571e-03,  3.7111018e-03,\n",
       "       -6.5058530e-03, -6.8788775e-03, -4.9971291e-03, -2.2938098e-03,\n",
       "       -7.2501241e-03, -9.6017942e-03, -2.7435035e-03, -8.3597014e-03,\n",
       "       -6.0369493e-03, -5.6681409e-03, -2.3380935e-03, -1.7149114e-03,\n",
       "       -8.9573357e-03, -7.3664164e-04,  8.1588924e-03,  7.6877722e-03,\n",
       "       -7.2125453e-03, -3.6613373e-03,  3.1144819e-03, -9.5728217e-03,\n",
       "        1.4841638e-03,  6.5250578e-03,  5.7474347e-03, -8.7641198e-03,\n",
       "       -4.5111044e-03, -8.1351046e-03,  4.7761136e-05,  9.2696808e-03,\n",
       "        5.9768469e-03,  5.0645866e-03,  5.0530564e-03, -3.2451735e-03,\n",
       "        9.5571484e-03, -7.3636044e-03, -7.2731422e-03, -2.2554344e-03,\n",
       "       -7.8030000e-04, -3.2152594e-03, -6.0046971e-04,  7.4812928e-03,\n",
       "       -6.9905142e-04, -1.6296555e-03,  2.7381086e-03, -8.3664171e-03,\n",
       "        7.8529334e-03,  8.5414825e-03, -9.5856609e-03,  2.4487872e-03,\n",
       "        9.9041024e-03, -7.6706479e-03, -6.9593186e-03, -7.7335048e-03,\n",
       "        8.3927698e-03, -6.8451941e-04,  9.1498736e-03, -8.1536481e-03,\n",
       "        3.7396895e-03,  2.6409847e-03,  7.3685509e-04,  2.3292671e-03,\n",
       "       -7.4684946e-03, -9.3585290e-03,  2.3539593e-03,  6.1554578e-03,\n",
       "        7.9875831e-03,  5.7434076e-03, -7.6986075e-04,  8.3135916e-03,\n",
       "       -9.3327360e-03,  3.4037854e-03,  2.6433263e-04,  3.8582531e-03,\n",
       "        7.3859291e-03, -6.7244791e-03,  5.5866460e-03, -9.5162662e-03,\n",
       "       -8.1053504e-04, -8.6874887e-03, -5.1017259e-03,  9.2895459e-03,\n",
       "       -1.8543771e-03,  2.9151631e-03,  9.0803634e-03,  8.9414148e-03,\n",
       "       -8.2111070e-03, -3.0089736e-03,  9.8803053e-03,  5.1064133e-03,\n",
       "       -1.5773866e-03, -8.6938739e-03,  2.9655236e-03, -6.6748150e-03],\n",
       "      dtype=float32)"
      ]
     },
     "execution_count": 186,
     "metadata": {},
     "output_type": "execute_result"
    }
   ],
   "source": [
    "vector[1]"
   ]
  },
  {
   "cell_type": "code",
   "execution_count": 187,
   "id": "23a67414-1feb-4aaa-a254-b49903086236",
   "metadata": {
    "scrolled": true
   },
   "outputs": [
    {
     "data": {
      "text/plain": [
       "array([ 8.1364326e-03, -4.4598253e-03, -1.0691429e-03,  1.0078335e-03,\n",
       "       -1.9421088e-04,  1.1435696e-03,  6.1140186e-03, -1.4370973e-05,\n",
       "       -3.2525705e-03, -1.5134230e-03,  5.8991597e-03,  1.5108272e-03,\n",
       "       -7.2472234e-04,  9.3402201e-03, -4.9215634e-03, -8.3947513e-04,\n",
       "        9.1781495e-03,  6.7567634e-03,  1.5069646e-03, -8.8883890e-03,\n",
       "        1.1503436e-03, -2.2904016e-03,  9.3729477e-03,  1.2104675e-03,\n",
       "        1.4894680e-03,  2.4075306e-03, -1.8404026e-03, -4.9980129e-03,\n",
       "        2.3445155e-04, -2.0169856e-03,  6.6043674e-03,  8.9408010e-03,\n",
       "       -6.7051844e-04,  2.9804069e-03, -6.1082114e-03,  1.7018206e-03,\n",
       "       -6.9247466e-03, -8.6956695e-03, -5.9042741e-03, -8.9604277e-03,\n",
       "        7.2809602e-03, -5.7785474e-03,  8.2746334e-03, -7.2376207e-03,\n",
       "        3.4207618e-03,  9.6759526e-03, -7.7946284e-03, -9.9507924e-03,\n",
       "       -4.3275710e-03, -2.6869082e-03, -2.7543909e-04, -8.8383388e-03,\n",
       "       -8.6208209e-03,  2.8036037e-03, -8.2084844e-03, -9.0682963e-03,\n",
       "       -2.3411929e-03, -8.6383177e-03, -7.0536719e-03, -8.4005697e-03,\n",
       "       -3.0218082e-04, -4.5642024e-03,  6.6332291e-03,  1.5286198e-03,\n",
       "       -3.3463391e-03,  6.1150221e-03, -6.0153846e-03, -4.6531069e-03,\n",
       "       -7.2085219e-03, -4.3364521e-03, -1.8085610e-03,  6.4948993e-03,\n",
       "       -2.7711305e-03,  4.9231383e-03,  6.9149141e-03, -7.4582123e-03,\n",
       "        4.5675184e-03,  6.1300891e-03, -2.9590109e-03,  6.6231312e-03,\n",
       "        6.1243442e-03, -6.4450479e-03, -6.7643449e-03,  2.5458075e-03,\n",
       "       -1.6287742e-03, -6.0642641e-03,  9.5025375e-03, -5.1318207e-03,\n",
       "       -6.5551437e-03, -1.1803567e-04, -2.6977358e-03,  4.4562385e-04,\n",
       "       -3.5382831e-03, -4.1698714e-04, -7.0917391e-04,  8.2472642e-04,\n",
       "        8.2047461e-03, -5.7398393e-03, -1.6574693e-03,  5.5745216e-03],\n",
       "      dtype=float32)"
      ]
     },
     "execution_count": 187,
     "metadata": {},
     "output_type": "execute_result"
    }
   ],
   "source": [
    "vector[2]"
   ]
  },
  {
   "cell_type": "code",
   "execution_count": 188,
   "id": "70cbbfd8-1a37-4fb9-923e-d6cd9b94ae9b",
   "metadata": {
    "scrolled": true
   },
   "outputs": [
    {
     "name": "stdout",
     "output_type": "stream",
     "text": [
      "Vector for token 0 (['hi', 'emergency', 'please', 'come', 'fast', 'ambawadi', 'ahmedabad', 'gujarat', 'india', 'super', 'important', 'also', 'bring', 'ambulance', 'help', 'along', 'police', 'fireman', 'etc', 'india', 'famous', 'fast', 'services', 'doctors', 'police', 'everything']):\n",
      "[-2.3811334e-04  4.2211013e-03  2.1129278e-03  9.9959997e-03\n",
      "  6.2816328e-04 -5.4655168e-03 -1.1790930e-03  2.0723990e-03\n",
      " -3.3754890e-03 -7.8483410e-03 -5.5997386e-03 -6.7506251e-03\n",
      "  6.3500749e-03  3.9231363e-03  8.2151899e-03  6.5188613e-03\n",
      " -6.1273668e-03  2.7173611e-03  8.4721940e-03  1.5916717e-03\n",
      "  3.0685854e-03  5.8122324e-03 -8.8363495e-03  9.1269528e-03\n",
      "  6.8178857e-03  8.5112862e-03 -8.2278345e-03  6.1741951e-03\n",
      "  6.6288672e-03 -1.3569586e-03 -6.2917862e-03  5.3252126e-03\n",
      " -6.8583009e-03 -5.3257239e-03  3.5117948e-03  8.0822064e-03\n",
      "  8.6930851e-03 -4.4040415e-03 -9.1902018e-03  9.6059553e-03\n",
      "  6.2924605e-03 -3.9697895e-03 -8.4614707e-03 -4.7151204e-03\n",
      " -3.9565125e-03 -3.2742722e-03  8.1673893e-04 -2.9875027e-04\n",
      " -3.1106046e-03 -5.9966356e-03  9.4205840e-03 -4.7287154e-03\n",
      " -7.2613587e-03  7.6862383e-03  2.5149768e-03  8.6267488e-03\n",
      " -4.4634510e-03 -6.8956758e-03  9.8340085e-04 -1.1739238e-03\n",
      " -9.3954820e-03 -1.6034484e-03  3.0538051e-03  6.5655373e-03\n",
      "  6.8450402e-03  3.2111665e-03 -4.4422778e-03 -1.8366012e-03\n",
      " -3.9418512e-03  5.7736412e-03 -6.3596461e-03  2.1056845e-03\n",
      " -1.3450854e-03 -5.8110794e-03 -7.2428896e-03  5.8557685e-03\n",
      " -8.3584897e-03 -6.8380270e-04  2.8277982e-03  7.7371313e-03\n",
      " -7.2990814e-03  3.3023427e-03  9.8092631e-03 -6.9778506e-03\n",
      " -3.5359126e-03  5.1325317e-03  5.2402057e-03  1.6241694e-03\n",
      "  7.9697110e-03  8.3125778e-04  1.8743451e-03 -1.6034148e-03\n",
      " -8.1674587e-03  3.2584281e-03  1.9673568e-03 -8.7352535e-03\n",
      " -6.7319372e-04  7.5559779e-05 -7.1596114e-06  8.7127872e-03]\n",
      "\n",
      "\n"
     ]
    }
   ],
   "source": [
    "for i in range(len(tokens)):\n",
    "    print(f\"Vector for token {i} ({tokens[i]}):\")\n",
    "    print(vector[i])\n",
    "    print(\"\\n\")"
   ]
  },
  {
   "cell_type": "code",
   "execution_count": 189,
   "id": "afc746c2-bf69-49f4-bd63-5007e70e2d16",
   "metadata": {},
   "outputs": [],
   "source": [
    "nearest_word = model.wv.most_similar('emergency')"
   ]
  },
  {
   "cell_type": "code",
   "execution_count": 190,
   "id": "2a731eac-5333-4ed4-882c-037ef0c489dd",
   "metadata": {
    "scrolled": true
   },
   "outputs": [
    {
     "data": {
      "text/plain": [
       "[('super', 0.16714191436767578),\n",
       " ('important', 0.13894808292388916),\n",
       " ('everything', 0.13143371045589447),\n",
       " ('famous', 0.0979069247841835),\n",
       " ('along', 0.07178574800491333),\n",
       " ('india', 0.064207524061203),\n",
       " ('ambawadi', 0.06071408465504646),\n",
       " ('help', 0.04791155457496643),\n",
       " ('doctors', 0.04427417367696762),\n",
       " ('gujarat', 0.02068031020462513)]"
      ]
     },
     "execution_count": 190,
     "metadata": {},
     "output_type": "execute_result"
    }
   ],
   "source": [
    "nearest_word"
   ]
  }
 ],
 "metadata": {
  "kernelspec": {
   "display_name": "Python 3 (ipykernel)",
   "language": "python",
   "name": "python3"
  },
  "language_info": {
   "codemirror_mode": {
    "name": "ipython",
    "version": 3
   },
   "file_extension": ".py",
   "mimetype": "text/x-python",
   "name": "python",
   "nbconvert_exporter": "python",
   "pygments_lexer": "ipython3",
   "version": "3.10.7"
  }
 },
 "nbformat": 4,
 "nbformat_minor": 5
}
